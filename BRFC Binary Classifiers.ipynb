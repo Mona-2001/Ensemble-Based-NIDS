{
 "cells": [
  {
   "cell_type": "code",
   "execution_count": 2,
   "id": "1fd962c4",
   "metadata": {},
   "outputs": [],
   "source": [
    "import mysql.connector\n",
    "import pandas as pd\n",
    "import xgboost as xgb\n",
    "import numpy as np\n",
    "from sklearn.model_selection import train_test_split\n",
    "from sklearn.metrics import classification_report\n",
    "from imblearn.ensemble import BalancedRandomForestClassifier\n",
    "import pickle\n",
    "import matplotlib.pyplot as plt \n",
    "import seaborn \n",
    "from tqdm import tqdm\n",
    "import warnings "
   ]
  },
  {
   "cell_type": "code",
   "execution_count": 3,
   "id": "f74578c3",
   "metadata": {},
   "outputs": [],
   "source": [
    "con = mysql.connector.connect(\n",
    "    host = \"localhost\",\n",
    "    user = \"root\",\n",
    "    passwd = \"G5thesis\",\n",
    "    database = \"dataset_NF\"\n",
    ")\n",
    "cursor = con.cursor()\n",
    "q1 = \"DESCRIBE Encoded_L7_DstPrt_Cleaned_NF_dataset\"\n",
    "cursor.execute(q1)\n",
    "colnames = [row[0] for row in cursor.fetchall()]"
   ]
  },
  {
   "cell_type": "markdown",
   "id": "76242653",
   "metadata": {},
   "source": [
    "## Binary Classifiers Using Balanced Random Forest"
   ]
  },
  {
   "cell_type": "code",
   "execution_count": 4,
   "id": "86ef9846",
   "metadata": {},
   "outputs": [],
   "source": [
    "# Extract all the data\n",
    "labels = [0,1,2,3,4,5,6,7,8,9,10,11,12,13,14]\n",
    "data = []\n",
    "for i in labels:\n",
    "    cursor.execute(\"\"\"SELECT * FROM Encoded_L7_DstPrt_Cleaned_NF_dataset WHERE Attack = %s ORDER BY RAND() \"\"\",(i,))\n",
    "    rows = cursor.fetchall()\n",
    "    data.extend(rows)"
   ]
  },
  {
   "cell_type": "code",
   "execution_count": 5,
   "id": "46bdcd48",
   "metadata": {},
   "outputs": [
    {
     "data": {
      "text/html": [
       "<div>\n",
       "<style scoped>\n",
       "    .dataframe tbody tr th:only-of-type {\n",
       "        vertical-align: middle;\n",
       "    }\n",
       "\n",
       "    .dataframe tbody tr th {\n",
       "        vertical-align: top;\n",
       "    }\n",
       "\n",
       "    .dataframe thead th {\n",
       "        text-align: right;\n",
       "    }\n",
       "</style>\n",
       "<table border=\"1\" class=\"dataframe\">\n",
       "  <thead>\n",
       "    <tr style=\"text-align: right;\">\n",
       "      <th></th>\n",
       "      <th>IN_BYTES</th>\n",
       "      <th>IN_PKTS</th>\n",
       "      <th>OUT_BYTES</th>\n",
       "      <th>OUT_PKTS</th>\n",
       "      <th>TCP_FLAGS</th>\n",
       "      <th>CLIENT_TCP_FLAGS</th>\n",
       "      <th>SERVER_TCP_FLAGS</th>\n",
       "      <th>FLOW_DURATION_MILLISECONDS</th>\n",
       "      <th>DURATION_IN</th>\n",
       "      <th>DURATION_OUT</th>\n",
       "      <th>...</th>\n",
       "      <th>L4_DST_PORT_3306</th>\n",
       "      <th>L4_DST_PORT_8080</th>\n",
       "      <th>L4_DST_PORT_31808</th>\n",
       "      <th>L4_DST_PORT_OTHERS</th>\n",
       "      <th>L7_PROTO_7</th>\n",
       "      <th>L7_PROTO_79</th>\n",
       "      <th>L7_PROTO_92</th>\n",
       "      <th>L7_PROTO_131</th>\n",
       "      <th>L7_PROTO_178</th>\n",
       "      <th>L7_PROTO_OTHERS</th>\n",
       "    </tr>\n",
       "  </thead>\n",
       "  <tbody>\n",
       "    <tr>\n",
       "      <th>0</th>\n",
       "      <td>2191</td>\n",
       "      <td>27</td>\n",
       "      <td>35433</td>\n",
       "      <td>35</td>\n",
       "      <td>219</td>\n",
       "      <td>219</td>\n",
       "      <td>27</td>\n",
       "      <td>0</td>\n",
       "      <td>0</td>\n",
       "      <td>0</td>\n",
       "      <td>...</td>\n",
       "      <td>0</td>\n",
       "      <td>0</td>\n",
       "      <td>0</td>\n",
       "      <td>0</td>\n",
       "      <td>0</td>\n",
       "      <td>0</td>\n",
       "      <td>0</td>\n",
       "      <td>0</td>\n",
       "      <td>0</td>\n",
       "      <td>1</td>\n",
       "    </tr>\n",
       "    <tr>\n",
       "      <th>1</th>\n",
       "      <td>1719</td>\n",
       "      <td>18</td>\n",
       "      <td>7330</td>\n",
       "      <td>15</td>\n",
       "      <td>27</td>\n",
       "      <td>27</td>\n",
       "      <td>27</td>\n",
       "      <td>0</td>\n",
       "      <td>0</td>\n",
       "      <td>0</td>\n",
       "      <td>...</td>\n",
       "      <td>0</td>\n",
       "      <td>0</td>\n",
       "      <td>0</td>\n",
       "      <td>0</td>\n",
       "      <td>0</td>\n",
       "      <td>0</td>\n",
       "      <td>0</td>\n",
       "      <td>0</td>\n",
       "      <td>0</td>\n",
       "      <td>1</td>\n",
       "    </tr>\n",
       "    <tr>\n",
       "      <th>2</th>\n",
       "      <td>1689</td>\n",
       "      <td>11</td>\n",
       "      <td>4727</td>\n",
       "      <td>11</td>\n",
       "      <td>30</td>\n",
       "      <td>30</td>\n",
       "      <td>26</td>\n",
       "      <td>0</td>\n",
       "      <td>0</td>\n",
       "      <td>0</td>\n",
       "      <td>...</td>\n",
       "      <td>0</td>\n",
       "      <td>0</td>\n",
       "      <td>0</td>\n",
       "      <td>1</td>\n",
       "      <td>0</td>\n",
       "      <td>0</td>\n",
       "      <td>0</td>\n",
       "      <td>0</td>\n",
       "      <td>0</td>\n",
       "      <td>1</td>\n",
       "    </tr>\n",
       "    <tr>\n",
       "      <th>3</th>\n",
       "      <td>1560</td>\n",
       "      <td>10</td>\n",
       "      <td>2092</td>\n",
       "      <td>11</td>\n",
       "      <td>222</td>\n",
       "      <td>222</td>\n",
       "      <td>90</td>\n",
       "      <td>0</td>\n",
       "      <td>0</td>\n",
       "      <td>0</td>\n",
       "      <td>...</td>\n",
       "      <td>0</td>\n",
       "      <td>0</td>\n",
       "      <td>0</td>\n",
       "      <td>1</td>\n",
       "      <td>0</td>\n",
       "      <td>0</td>\n",
       "      <td>0</td>\n",
       "      <td>0</td>\n",
       "      <td>0</td>\n",
       "      <td>1</td>\n",
       "    </tr>\n",
       "    <tr>\n",
       "      <th>4</th>\n",
       "      <td>2041</td>\n",
       "      <td>21</td>\n",
       "      <td>5533</td>\n",
       "      <td>18</td>\n",
       "      <td>27</td>\n",
       "      <td>27</td>\n",
       "      <td>27</td>\n",
       "      <td>4294951</td>\n",
       "      <td>16</td>\n",
       "      <td>16</td>\n",
       "      <td>...</td>\n",
       "      <td>0</td>\n",
       "      <td>0</td>\n",
       "      <td>0</td>\n",
       "      <td>0</td>\n",
       "      <td>0</td>\n",
       "      <td>0</td>\n",
       "      <td>0</td>\n",
       "      <td>0</td>\n",
       "      <td>0</td>\n",
       "      <td>1</td>\n",
       "    </tr>\n",
       "  </tbody>\n",
       "</table>\n",
       "<p>5 rows × 45 columns</p>\n",
       "</div>"
      ],
      "text/plain": [
       "   IN_BYTES  IN_PKTS  OUT_BYTES  OUT_PKTS  TCP_FLAGS  CLIENT_TCP_FLAGS  \\\n",
       "0      2191       27      35433        35        219               219   \n",
       "1      1719       18       7330        15         27                27   \n",
       "2      1689       11       4727        11         30                30   \n",
       "3      1560       10       2092        11        222               222   \n",
       "4      2041       21       5533        18         27                27   \n",
       "\n",
       "   SERVER_TCP_FLAGS  FLOW_DURATION_MILLISECONDS  DURATION_IN  DURATION_OUT  \\\n",
       "0                27                           0            0             0   \n",
       "1                27                           0            0             0   \n",
       "2                26                           0            0             0   \n",
       "3                90                           0            0             0   \n",
       "4                27                     4294951           16            16   \n",
       "\n",
       "   ...  L4_DST_PORT_3306  L4_DST_PORT_8080  L4_DST_PORT_31808  \\\n",
       "0  ...                 0                 0                  0   \n",
       "1  ...                 0                 0                  0   \n",
       "2  ...                 0                 0                  0   \n",
       "3  ...                 0                 0                  0   \n",
       "4  ...                 0                 0                  0   \n",
       "\n",
       "   L4_DST_PORT_OTHERS  L7_PROTO_7  L7_PROTO_79  L7_PROTO_92  L7_PROTO_131  \\\n",
       "0                   0           0            0            0             0   \n",
       "1                   0           0            0            0             0   \n",
       "2                   1           0            0            0             0   \n",
       "3                   1           0            0            0             0   \n",
       "4                   0           0            0            0             0   \n",
       "\n",
       "   L7_PROTO_178  L7_PROTO_OTHERS  \n",
       "0             0                1  \n",
       "1             0                1  \n",
       "2             0                1  \n",
       "3             0                1  \n",
       "4             0                1  \n",
       "\n",
       "[5 rows x 45 columns]"
      ]
     },
     "execution_count": 5,
     "metadata": {},
     "output_type": "execute_result"
    }
   ],
   "source": [
    "df = pd.DataFrame(data = data, columns = colnames)\n",
    "df.head()"
   ]
  },
  {
   "cell_type": "code",
   "execution_count": 6,
   "id": "17bb98cf",
   "metadata": {},
   "outputs": [
    {
     "name": "stdout",
     "output_type": "stream",
     "text": [
      "0\n",
      "              precision    recall  f1-score        support\n",
      "0              0.941114  0.969377  0.955036  103092.000000\n",
      "1              0.990733  0.981811  0.986252  343770.000000\n",
      "accuracy       0.978942  0.978942  0.978942       0.978942\n",
      "macro avg      0.965923  0.975594  0.970644  446862.000000\n",
      "weighted avg   0.979286  0.978942  0.979050  446862.000000\n",
      "\n",
      "\n"
     ]
    }
   ],
   "source": [
    "# Benign Case (benign is 1 while others are 0)\n",
    "warnings.filterwarnings('ignore') \n",
    "base_models = []\n",
    "df_0 = df.copy()\n",
    "df_0['Attack'][df_0['Attack'] != 0] = -1\n",
    "df_0.replace({'Attack': 0}, {'Attack': 1}, inplace=True)\n",
    "df_0.replace({'Attack': -1}, {'Attack': 0}, inplace=True)\n",
    "X_0 = df_0.drop(columns=['Attack'])\n",
    "Y_0 = df_0[['Attack']]\n",
    "X_train_0, X_test_0, y_train_0, y_test_0 = train_test_split(X_0, Y_0, test_size=0.2, random_state=30)\n",
    "base_model = BalancedRandomForestClassifier(n_estimators=100, random_state=30, class_weight='balanced')\n",
    "base_model.fit(X_train_0 , y_train_0 )\n",
    "base_models.append(('M_Model_' + '0', base_model))\n",
    "\n",
    "y_pred_copy = base_model.predict(X_test_0)\n",
    "results_copy = classification_report(y_test_0,y_pred_copy,output_dict = True)\n",
    "df_res = pd.DataFrame(results_copy).transpose()\n",
    "print(0)\n",
    "print(df_res)\n",
    "print(\"\\n\")\n",
    "\n",
    "# Storing the model\n",
    "with open('M_Model_' + str(0) + '.pkl', 'wb') as file:  \n",
    "    pickle.dump(base_model, file)"
   ]
  },
  {
   "cell_type": "code",
   "execution_count": 7,
   "id": "68616ace",
   "metadata": {},
   "outputs": [],
   "source": [
    "df_copy = df.copy()"
   ]
  },
  {
   "cell_type": "code",
   "execution_count": 8,
   "id": "5fea3b58",
   "metadata": {},
   "outputs": [
    {
     "name": "stderr",
     "output_type": "stream",
     "text": [
      "  7%|███▏                                        | 1/14 [00:28<06:06, 28.23s/it]"
     ]
    },
    {
     "name": "stdout",
     "output_type": "stream",
     "text": [
      "Model 1\n",
      "              precision    recall  f1-score        support\n",
      "0              1.000000  0.999993  0.999997  446738.000000\n",
      "1              0.976378  1.000000  0.988048     124.000000\n",
      "accuracy       0.999993  0.999993  0.999993       0.999993\n",
      "macro avg      0.988189  0.999997  0.994022  446862.000000\n",
      "weighted avg   0.999993  0.999993  0.999993  446862.000000\n"
     ]
    },
    {
     "name": "stderr",
     "output_type": "stream",
     "text": [
      " 14%|██████▎                                     | 2/14 [00:56<05:40, 28.39s/it]"
     ]
    },
    {
     "name": "stdout",
     "output_type": "stream",
     "text": [
      "Model 2\n",
      "              precision    recall  f1-score        support\n",
      "0              0.999995  0.959060  0.979100  446553.000000\n",
      "1              0.016515  0.993528  0.032490     309.000000\n",
      "accuracy       0.959084  0.959084  0.959084       0.959084\n",
      "macro avg      0.508255  0.976294  0.505795  446862.000000\n",
      "weighted avg   0.999315  0.959084  0.978445  446862.000000\n"
     ]
    },
    {
     "name": "stderr",
     "output_type": "stream",
     "text": [
      " 21%|█████████▍                                  | 3/14 [01:25<05:13, 28.55s/it]"
     ]
    },
    {
     "name": "stdout",
     "output_type": "stream",
     "text": [
      "Model 3\n",
      "              precision    recall  f1-score        support\n",
      "0              0.999995  0.958536  0.978827  446697.000000\n",
      "1              0.008724  0.987879  0.017294     165.000000\n",
      "accuracy       0.958546  0.958546  0.958546       0.958546\n",
      "macro avg      0.504359  0.973207  0.498061  446862.000000\n",
      "weighted avg   0.999629  0.958546  0.978472  446862.000000\n"
     ]
    },
    {
     "name": "stderr",
     "output_type": "stream",
     "text": [
      " 29%|████████████▌                               | 4/14 [02:03<05:24, 32.43s/it]"
     ]
    },
    {
     "name": "stdout",
     "output_type": "stream",
     "text": [
      "Model 4\n",
      "              precision    recall  f1-score        support\n",
      "0              1.000000  0.998867  0.999433  427138.000000\n",
      "1              0.976049  1.000000  0.987879   19724.000000\n",
      "accuracy       0.998917  0.998917  0.998917       0.998917\n",
      "macro avg      0.988025  0.999433  0.993656  446862.000000\n",
      "weighted avg   0.998943  0.998917  0.998923  446862.000000\n"
     ]
    },
    {
     "name": "stderr",
     "output_type": "stream",
     "text": [
      " 36%|███████████████▋                            | 5/14 [02:31<04:37, 30.84s/it]"
     ]
    },
    {
     "name": "stdout",
     "output_type": "stream",
     "text": [
      "Model 5\n",
      "              precision   recall  f1-score       support\n",
      "0              1.000000  0.99972  0.999860  446463.00000\n",
      "1              0.761450  1.00000  0.864572     399.00000\n",
      "accuracy       0.999720  0.99972  0.999720       0.99972\n",
      "macro avg      0.880725  0.99986  0.932216  446862.00000\n",
      "weighted avg   0.999787  0.99972  0.999739  446862.00000\n"
     ]
    },
    {
     "name": "stderr",
     "output_type": "stream",
     "text": [
      " 43%|██████████████████▊                         | 6/14 [03:01<04:04, 30.53s/it]"
     ]
    },
    {
     "name": "stdout",
     "output_type": "stream",
     "text": [
      "Model 6\n",
      "              precision    recall  f1-score        support\n",
      "0              1.000000  0.999937  0.999968  443439.000000\n",
      "1              0.991886  1.000000  0.995927    3423.000000\n",
      "accuracy       0.999937  0.999937  0.999937       0.999937\n",
      "macro avg      0.995943  0.999968  0.997948  446862.000000\n",
      "weighted avg   0.999938  0.999937  0.999937  446862.000000\n"
     ]
    },
    {
     "name": "stderr",
     "output_type": "stream",
     "text": [
      " 50%|██████████████████████                      | 7/14 [03:32<03:34, 30.64s/it]"
     ]
    },
    {
     "name": "stdout",
     "output_type": "stream",
     "text": [
      "Model 7\n",
      "              precision    recall  f1-score        support\n",
      "0              1.000000  0.999964  0.999982  441371.000000\n",
      "1              0.997095  1.000000  0.998545    5491.000000\n",
      "accuracy       0.999964  0.999964  0.999964       0.999964\n",
      "macro avg      0.998547  0.999982  0.999264  446862.000000\n",
      "weighted avg   0.999964  0.999964  0.999964  446862.000000\n",
      "Model 8\n",
      "              precision    recall  f1-score        support\n",
      "0              0.999997  0.999997  0.999997  381964.000000\n",
      "1              0.999985  0.999985  0.999985   64898.000000\n",
      "accuracy       0.999996  0.999996  0.999996       0.999996\n",
      "macro avg      0.999991  0.999991  0.999991  446862.000000\n",
      "weighted avg   0.999996  0.999996  0.999996  446862.000000\n"
     ]
    },
    {
     "name": "stderr",
     "output_type": "stream",
     "text": [
      " 64%|████████████████████████████▎               | 9/14 [05:00<03:00, 36.15s/it]"
     ]
    },
    {
     "name": "stdout",
     "output_type": "stream",
     "text": [
      "Model 9\n",
      "              precision    recall  f1-score        support\n",
      "0              1.000000  0.997908  0.998953  446852.000000\n",
      "1              0.010582  1.000000  0.020942      10.000000\n",
      "accuracy       0.997908  0.997908  0.997908       0.997908\n",
      "macro avg      0.505291  0.998954  0.509948  446862.000000\n",
      "weighted avg   0.999978  0.997908  0.998931  446862.000000\n"
     ]
    },
    {
     "name": "stderr",
     "output_type": "stream",
     "text": [
      " 71%|██████████████████████████████▋            | 10/14 [05:28<02:14, 33.59s/it]"
     ]
    },
    {
     "name": "stdout",
     "output_type": "stream",
     "text": [
      "Model 10\n",
      "              precision    recall  f1-score        support\n",
      "0              1.000000  0.999705  0.999852  446815.000000\n",
      "1              0.262570  1.000000  0.415929      47.000000\n",
      "accuracy       0.999705  0.999705  0.999705       0.999705\n",
      "macro avg      0.631285  0.999852  0.707891  446862.000000\n",
      "weighted avg   0.999922  0.999705  0.999791  446862.000000\n"
     ]
    },
    {
     "name": "stderr",
     "output_type": "stream",
     "text": [
      " 79%|█████████████████████████████████▊         | 11/14 [05:55<01:35, 31.76s/it]"
     ]
    },
    {
     "name": "stdout",
     "output_type": "stream",
     "text": [
      "Model 11\n",
      "              precision    recall  f1-score        support\n",
      "0              1.000000  0.999731  0.999866  446854.000000\n",
      "1              0.062500  1.000000  0.117647       8.000000\n",
      "accuracy       0.999731  0.999731  0.999731       0.999731\n",
      "macro avg      0.531250  0.999866  0.558756  446862.000000\n",
      "weighted avg   0.999983  0.999731  0.999850  446862.000000\n"
     ]
    },
    {
     "name": "stderr",
     "output_type": "stream",
     "text": [
      " 86%|████████████████████████████████████▊      | 12/14 [06:33<01:07, 33.74s/it]"
     ]
    },
    {
     "name": "stdout",
     "output_type": "stream",
     "text": [
      "Model 12\n",
      "              precision    recall  f1-score        support\n",
      "0              0.998321  0.867582  0.928371  441413.000000\n",
      "1              0.075961  0.881813  0.139873    5449.000000\n",
      "accuracy       0.867756  0.867756  0.867756       0.867756\n",
      "macro avg      0.537141  0.874698  0.534122  446862.000000\n",
      "weighted avg   0.987074  0.867756  0.918756  446862.000000\n"
     ]
    },
    {
     "name": "stderr",
     "output_type": "stream",
     "text": [
      " 93%|███████████████████████████████████████▉   | 13/14 [07:02<00:32, 32.12s/it]"
     ]
    },
    {
     "name": "stdout",
     "output_type": "stream",
     "text": [
      "Model 13\n",
      "              precision    recall  f1-score       support\n",
      "0              1.000000  0.965535  0.982465  446799.00000\n",
      "1              0.004075  1.000000  0.008116      63.00000\n",
      "accuracy       0.965540  0.965540  0.965540       0.96554\n",
      "macro avg      0.502037  0.982767  0.495291  446862.00000\n",
      "weighted avg   0.999860  0.965540  0.982328  446862.00000\n"
     ]
    },
    {
     "name": "stderr",
     "output_type": "stream",
     "text": [
      "100%|███████████████████████████████████████████| 14/14 [07:31<00:00, 32.28s/it]"
     ]
    },
    {
     "name": "stdout",
     "output_type": "stream",
     "text": [
      "Model 14\n",
      "              precision    recall  f1-score        support\n",
      "0              1.000000  0.999993  0.999997  443880.000000\n",
      "1              0.998995  1.000000  0.999497    2982.000000\n",
      "accuracy       0.999993  0.999993  0.999993       0.999993\n",
      "macro avg      0.999497  0.999997  0.999747  446862.000000\n",
      "weighted avg   0.999993  0.999993  0.999993  446862.000000\n"
     ]
    },
    {
     "name": "stderr",
     "output_type": "stream",
     "text": [
      "\n"
     ]
    }
   ],
   "source": [
    "warnings.filterwarnings('ignore') \n",
    "for i in tqdm(range(1, 15)):\n",
    "    df_copy.truncate(before=-1, after=-1)\n",
    "    df_copy = df.copy()\n",
    "    df_copy['Attack'][df_copy['Attack'] != i] = 0\n",
    "    df_copy.replace({'Attack': i}, {'Attack': 1}, inplace=True)\n",
    "    X_copy = df_copy.drop(columns=['Attack'])\n",
    "    Y_copy = df_copy[['Attack']]\n",
    "    X_train_copy, X_test_copy, y_train_copy, y_test_copy = train_test_split(X_copy, Y_copy, test_size=0.2, random_state=30)\n",
    "    base_model = BalancedRandomForestClassifier(n_estimators=100, random_state=42, class_weight='balanced')\n",
    "    base_model.fit(X_train_copy , y_train_copy )\n",
    "    y_pred_copy = base_model.predict(X_test_copy)\n",
    "    base_models.append(('M_Model_' + str(i), base_model))\n",
    "    results_copy = classification_report(y_test_copy,y_pred_copy,output_dict = True)\n",
    "    df_res = pd.DataFrame(results_copy).transpose()\n",
    "    print('Model '+str(i))\n",
    "    print(df_res)\n",
    "    # Storing the model\n",
    "    with open('M_Model_' + str(i) + '.pkl', 'wb') as file:  \n",
    "        pickle.dump(base_model, file)"
   ]
  }
 ],
 "metadata": {
  "kernelspec": {
   "display_name": "Python 3 (ipykernel)",
   "language": "python",
   "name": "python3"
  },
  "language_info": {
   "codemirror_mode": {
    "name": "ipython",
    "version": 3
   },
   "file_extension": ".py",
   "mimetype": "text/x-python",
   "name": "python",
   "nbconvert_exporter": "python",
   "pygments_lexer": "ipython3",
   "version": "3.9.18"
  }
 },
 "nbformat": 4,
 "nbformat_minor": 5
}
